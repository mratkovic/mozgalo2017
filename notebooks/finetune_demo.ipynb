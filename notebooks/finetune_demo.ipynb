{
 "cells": [
  {
   "cell_type": "code",
   "execution_count": 1,
   "metadata": {
    "collapsed": false
   },
   "outputs": [
    {
     "name": "stdout",
     "output_type": "stream",
     "text": [
      "sys_version 3.5.2 (default, Nov 17 2016, 17:05:23) [GCC 5.4.0 20160609]\n",
      "virtual_env None\n",
      "pwd /home/marko/Projects/mozgalo2017/notebooks\n",
      "np  1.12.1\n",
      "tf  1.1.0\n"
     ]
    }
   ],
   "source": [
    "from __future__ import absolute_import\n",
    "from __future__ import division\n",
    "from __future__ import print_function\n",
    "\n",
    "import os\n",
    "import sys\n",
    "import os\n",
    "import sys\n",
    "\n",
    "import numpy as np\n",
    "import tensorflow as tf\n",
    "import pandas as pd\n",
    "from glob import glob\n",
    "import matplotlib.pyplot as plt\n",
    "\n",
    "import skimage\n",
    "import skimage.io\n",
    "%matplotlib inline\n",
    "\n",
    "print('sys_version', sys.version.replace('\\n', ''))\n",
    "print('virtual_env', os.environ.get('VIRTUAL_ENV', 'None'))\n",
    "print('pwd', os.getcwd())\n",
    "print('np ', np.__version__)\n",
    "print('tf ', tf.__version__)\n",
    "\n",
    "from skimage import io\n",
    "from skimage.transform import resize\n",
    "from sklearn.decomposition import PCA\n",
    "import tqdm\n",
    "import _pickle as cPickle\n",
    "\n",
    "import sys\n",
    "sys.path.append('..')\n",
    "sys.path.append('../src/modules/models/slim')"
   ]
  },
  {
   "cell_type": "markdown",
   "metadata": {},
   "source": [
    "# Mozgalo"
   ]
  },
  {
   "cell_type": "markdown",
   "metadata": {},
   "source": [
    "## Definitions"
   ]
  },
  {
   "cell_type": "code",
   "execution_count": 10,
   "metadata": {
    "collapsed": false
   },
   "outputs": [],
   "source": [
    "from src.modules import nn_utils\n",
    "from importlib import reload\n",
    "reload(nn_utils)\n",
    "from src.modules import nn_utils\n",
    "from src.modules.nn_utils import *\n",
    "\n",
    "\n",
    "from src.modules import dataset as ds\n",
    "from importlib import reload\n",
    "reload(ds)\n",
    "from src.modules import dataset as ds\n",
    "from src.modules.dataset import *\n"
   ]
  },
  {
   "cell_type": "code",
   "execution_count": 3,
   "metadata": {
    "collapsed": false
   },
   "outputs": [],
   "source": [
    "from src.modules.nn_utils import *\n",
    "from src.modules.utils import *\n",
    "from src.modules.dataset import *\n",
    "\n",
    "\n",
    "DATASET_ROOT = '../dataset/mozgalo_dataset/extracted/'\n",
    "csv_path = '../dataset/mozgalo_dataset/features_v4.csv'\n",
    "pickled_features_path = '../dataset/mozgalo_dataset/features_resnet50_pickle'\n",
    "pickled_pca_features_path = '../dataset/mozgalo_dataset/features_v4_pca_pickle'\n",
    "init_logging()"
   ]
  },
  {
   "cell_type": "code",
   "execution_count": 4,
   "metadata": {
    "collapsed": false
   },
   "outputs": [],
   "source": [
    "DATASET_ROOT = '../dataset/cifar10/imgs/'\n",
    "csv_path = '../dataset/cifar10/features_v4.csv'\n",
    "pickled_features_path = '../dataset/cifar10/features_resnet50_pickle'\n",
    "pickled_pca_features_path = '../dataset/mozgalo_dataset/features_v4_pca_pickle'\n",
    "init_logging()"
   ]
  },
  {
   "cell_type": "code",
   "execution_count": 5,
   "metadata": {
    "collapsed": false,
    "scrolled": false
   },
   "outputs": [
    {
     "name": "stdout",
     "output_type": "stream",
     "text": [
      "2017-05-17 07:53:57 DEBUG    Loading imgs in dataset\n"
     ]
    },
    {
     "name": "stderr",
     "output_type": "stream",
     "text": [
      "100%|██████████| 45001/45001 [00:07<00:00, 6316.49it/s] \n"
     ]
    }
   ],
   "source": [
    "# Loading dataset\n",
    "dataset = ImageDataset(DATASET_ROOT)\n",
    "\n",
    "# force only subset\n",
    "# dataset.paths = dataset.paths[:60]\n",
    "dataset.load_imgs()"
   ]
  },
  {
   "cell_type": "markdown",
   "metadata": {},
   "source": [
    "## Feature extraction"
   ]
  },
  {
   "cell_type": "code",
   "execution_count": 6,
   "metadata": {
    "collapsed": false
   },
   "outputs": [],
   "source": [
    "# Loading network\n",
    "model = InceptionNet()\n",
    "model.create_graph()"
   ]
  },
  {
   "cell_type": "markdown",
   "metadata": {},
   "source": [
    "### Extracting features and dumping to file"
   ]
  },
  {
   "cell_type": "code",
   "execution_count": null,
   "metadata": {
    "collapsed": false,
    "scrolled": true
   },
   "outputs": [
    {
     "name": "stderr",
     "output_type": "stream",
     "text": [
      "  1%|          | 287/45001 [01:23<5:02:16,  2.47it/s]"
     ]
    }
   ],
   "source": [
    "# slow on cpu: cca 1-2h for 7k images\n",
    "# TODO: speedup: load in batches\n",
    "dataset.extract_features(model)\n",
    "#dataset.store_csv_features(csv_path)\n",
    "dataset.store_features(pickled_features_path)\n"
   ]
  },
  {
   "cell_type": "markdown",
   "metadata": {},
   "source": [
    "### Load preextracted features from last run"
   ]
  },
  {
   "cell_type": "code",
   "execution_count": 7,
   "metadata": {
    "collapsed": false
   },
   "outputs": [],
   "source": [
    "dataset.load_features(pickled_features_path)\n",
    "\n",
    "from sklearn.externals import joblib\n",
    "\n",
    "model_checkpoint_path = '../models/inception_v4/inception_v4.ckpt'\n",
    "PCA_pickled_location = '../models/pca/PCA_model_300.pkl'\n",
    "\n",
    "with open(PCA_pickled_location, 'rb') as f:\n",
    "    PCA_model = cPickle.load(f, encoding='latin')\n",
    "    \n",
    "# transformed_features = PCA_model.transform(dataset.features)\n",
    "# dataset.features = transformed_features\n",
    "# dataset.store_features(pickled_pca_features_path)\n"
   ]
  },
  {
   "cell_type": "markdown",
   "metadata": {},
   "source": [
    "# Data stored in dataset object"
   ]
  },
  {
   "cell_type": "code",
   "execution_count": 37,
   "metadata": {
    "collapsed": false
   },
   "outputs": [],
   "source": []
  },
  {
   "cell_type": "code",
   "execution_count": 42,
   "metadata": {
    "collapsed": false
   },
   "outputs": [],
   "source": []
  },
  {
   "cell_type": "code",
   "execution_count": null,
   "metadata": {
    "collapsed": true
   },
   "outputs": [],
   "source": [
    "    #test_path, vectors, paths, top_n_results\n",
    "    test_img = io.imread(test_path)\n",
    "    plt.figure(figsize=(16,12))\n",
    "    plt.imshow(test_img)\n",
    "    plt.title(\"Query image - %s\" % test_path)\n",
    "    plt.show()\n",
    "    \n",
    "    img_cnt=0\n",
    "    fig, ax = plt.subplots(int(np.ceil(top_n_results/3.)),3,figsize=(16,12))\n",
    "    ax = np.array(ax).flatten()\n",
    "    \n",
    "    for index in np.argsort(cos_dist)[::-1][:top_n_results]:\n",
    "        img = io.imread(paths[index])\n",
    "        ax[img_cnt].imshow(img)\n",
    "        img_cnt+=1\n",
    "        \n",
    "            \n",
    "    fig.tight_layout()\n",
    "    plt.show()"
   ]
  }
 ],
 "metadata": {
  "kernelspec": {
   "display_name": "Python 3",
   "language": "python",
   "name": "python3"
  },
  "language_info": {
   "codemirror_mode": {
    "name": "ipython",
    "version": 3
   },
   "file_extension": ".py",
   "mimetype": "text/x-python",
   "name": "python",
   "nbconvert_exporter": "python",
   "pygments_lexer": "ipython3",
   "version": "3.5.2"
  }
 },
 "nbformat": 4,
 "nbformat_minor": 0
}
